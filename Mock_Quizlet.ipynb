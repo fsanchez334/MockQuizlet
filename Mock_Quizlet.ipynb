{
  "nbformat": 4,
  "nbformat_minor": 0,
  "metadata": {
    "colab": {
      "name": "Mock Quizlet.ipynb",
      "provenance": [],
      "collapsed_sections": []
    },
    "kernelspec": {
      "name": "python3",
      "display_name": "Python 3"
    },
    "language_info": {
      "name": "python"
    }
  },
  "cells": [
    {
      "cell_type": "markdown",
      "source": [
        "## Purpose of the Program\n",
        "\n",
        "The purpose of the program is to serve as a quizlet for learning new words. The user starts with a list of words, and the program constructs a dictionary witha word's various definitions. By randomly choosing a word and a definition, the program asks the user to provide the word that matches the definition. \n",
        "\n",
        "For testing purposes, the program uses a list of three words: cat, dog, and computer.\n",
        "\n",
        "The goal is for the program to form a quizlet out of a text file containing words that the user would like to know better."
      ],
      "metadata": {
        "id": "sui9IqSuqCXq"
      }
    },
    {
      "cell_type": "markdown",
      "source": [
        "## Imports\n",
        "The block of code below incorporates the libraries that will be useful in completing the project. Note that the nltk library and wordnet application is used."
      ],
      "metadata": {
        "id": "sMhQFnG8Mq0q"
      }
    },
    {
      "cell_type": "code",
      "execution_count": 87,
      "metadata": {
        "colab": {
          "base_uri": "https://localhost:8080/"
        },
        "id": "CRZYsHmvp8JZ",
        "outputId": "fa8eae40-e226-4296-a54a-6bd31dbc9b57"
      },
      "outputs": [
        {
          "output_type": "stream",
          "name": "stdout",
          "text": [
            "[nltk_data] Downloading package wordnet to /root/nltk_data...\n",
            "[nltk_data]   Package wordnet is already up-to-date!\n"
          ]
        },
        {
          "output_type": "execute_result",
          "data": {
            "text/plain": [
              "True"
            ]
          },
          "metadata": {},
          "execution_count": 87
        }
      ],
      "source": [
        "#!pip install PyDictionary\n",
        "import nltk \n",
        "from nltk.corpus import wordnet\n",
        "from collections import defaultdict\n",
        "import random\n",
        "import os\n",
        "from IPython.display import clear_output \n",
        "nltk.download('wordnet')"
      ]
    },
    {
      "cell_type": "markdown",
      "source": [
        "## Functions for the Quizlet Application"
      ],
      "metadata": {
        "id": "NUX8JrAkNJ6j"
      }
    },
    {
      "cell_type": "code",
      "source": [
        "def construct_dictionary(container):\n",
        "  tracker = defaultdict(lambda : [])\n",
        "  for word in container:\n",
        "    word_versions = wordnet.synsets(word)\n",
        "    for synset in word_versions:\n",
        "      tracker[word].append(synset.definition())\n",
        "  return tracker\n",
        "\n",
        "def question_user(tracker, tested):\n",
        "  #We randomly pick a word and a definition\n",
        "  words = list(tracker.keys())\n",
        "  another = True\n",
        "  while another:\n",
        "    chosen_word = random.choice(words)\n",
        "    if chosen_word not in tested:\n",
        "      another = False\n",
        "  chosen_definition = random.choice(tracker[chosen_word])\n",
        "  return chosen_word, chosen_definition\n",
        "\n",
        "def check_answer(correct_answer, user_answer, container):\n",
        "  mover = True\n",
        "  while mover:\n",
        "    if user_answer in container:\n",
        "      mover = False\n",
        "    else:\n",
        "      user_answer = input(\"Please check your_spelling: \")\n",
        "    \n",
        "  return correct_answer.lower() == user_answer.lower()\n",
        "    \n",
        "\n",
        "def run_stats(correct, total):\n",
        "  return (correct / total) * 100\n",
        "\n",
        "def display_errors(words_missed):\n",
        "  for word, definition in words_missed.items():\n",
        "    print(\"Word -> \", word)\n",
        "    print(\"Def -> \", definition)\n",
        "    print(\"--------------------\")\n",
        "def main():\n",
        "  container = [\"cat\", \"dog\", \"computer\"]\n",
        "  tracker = construct_dictionary(container)\n",
        "  correct = 0\n",
        "  counter = 0\n",
        "  total = len(container)\n",
        "  tested = set()\n",
        "  mistaken_words = defaultdict(lambda: [])\n",
        "  while counter < total:\n",
        "    correct_word, correct_definition = question_user(tracker, tested)\n",
        "    print(\"What is the word associated with this definition?\")\n",
        "    print(correct_definition)\n",
        "    print(container)\n",
        "    user_answer = input(\"Answer: \")\n",
        "    if check_answer(correct_word, user_answer, container):\n",
        "      print(\"Correct\")\n",
        "      container.remove(correct_word)\n",
        "      tested.add(correct_word)\n",
        "      correct += 1      \n",
        "    else:\n",
        "      print(\"Incorrect\")\n",
        "      mistaken_words[correct_word] = correct_definition\n",
        "      container.remove(correct_word)\n",
        "      tested.add(correct_word)\n",
        "    counter += 1\n",
        "    clear_output() #For regular programs: os.system('clear')\n",
        "  \n",
        "  print(\"Percentage Correct: \", run_stats(correct, total))\n",
        "  print(\"Words to work on\")\n",
        "  print(\"--------------------\")\n",
        "  display_errors(mistaken_words)"
      ],
      "metadata": {
        "id": "G44mVnTbqmco"
      },
      "execution_count": 129,
      "outputs": []
    },
    {
      "cell_type": "markdown",
      "source": [
        "##Running the Program"
      ],
      "metadata": {
        "id": "GOv22zTZTyTq"
      }
    },
    {
      "cell_type": "code",
      "source": [
        "if __name__ == \"__main__\":\n",
        "  main()"
      ],
      "metadata": {
        "colab": {
          "base_uri": "https://localhost:8080/"
        },
        "id": "2jQjXTtRChjr",
        "outputId": "42f14d0e-edeb-4917-aca0-e78aa10c5cc8"
      },
      "execution_count": 131,
      "outputs": [
        {
          "output_type": "stream",
          "name": "stdout",
          "text": [
            "Percentage Correct:  66.66666666666666\n",
            "Words to work on\n",
            "--------------------\n",
            "Word ->  dog\n",
            "Def ->  someone who is morally reprehensible\n",
            "--------------------\n"
          ]
        }
      ]
    }
  ]
}